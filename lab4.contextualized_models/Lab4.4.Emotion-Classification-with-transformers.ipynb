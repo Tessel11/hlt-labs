{
 "cells": [
  {
   "cell_type": "markdown",
   "metadata": {},
   "source": [
    "# Lab4.4 GO Emotion Classification using a fine-tuned BERT model"
   ]
  },
  {
   "cell_type": "markdown",
   "metadata": {},
   "source": [
    "Copyright: Vrije Universiteit Amsterdam, Faculty of Humanities, CLTL"
   ]
  },
  {
   "cell_type": "markdown",
   "metadata": {},
   "source": [
    "This notebook shows how you can use a BERT model that was fine-tuned for emotion detection using the GO dataset from Google.\n",
    "The GO dataset consists of 8k English Reddit comments, labeled for 27 emotion categories or Neutral:\n",
    "\n",
    "https://github.com/google-research/google-research/tree/master/goemotions\n",
    "\n",
    "REFERENCE:\n",
    "Demszky, Dorottya, Dana Movshovitz-Attias, Jeongwoo Ko, Alan Cowen, Gaurav Nemade, and Sujith Ravi. \"GoEmotions: A dataset of fine-grained emotions.\" arXiv preprint arXiv:2005.00547 (2020).\n"
   ]
  },
  {
   "cell_type": "markdown",
   "metadata": {},
   "source": [
    "The GO emotions are more nuanced than the six basic Ekman emotions derived from facial expressions. They are based on a diverse range of emotion data and not just facial expression:\n",
    "\n",
    "https://ai.googleblog.com/2021/10/goemotions-dataset-for-fine-grained.html\n",
    "\n",
    "\n",
    "```\n",
    "LABELS = [\n",
    "    'admiration',\n",
    "    'amusement',\n",
    "    'anger',\n",
    "    'annoyance',\n",
    "    'approval',\n",
    "    'caring',\n",
    "    'confusion',\n",
    "    'curiosity',\n",
    "    'desire',\n",
    "    'disappointment',\n",
    "    'disapproval',\n",
    "    'disgust',\n",
    "    'embarrassment',\n",
    "    'excitement',\n",
    "    'fear',\n",
    "    'gratitude',\n",
    "    'grief',\n",
    "    'joy',\n",
    "    'love',\n",
    "    'nervousness',\n",
    "    'optimism',\n",
    "    'pride',\n",
    "    'realization',\n",
    "    'relief',\n",
    "    'remorse',\n",
    "    'sadness',\n",
    "    'surprise',\n",
    "    'neutral',\n",
    "]```\n"
   ]
  },
  {
   "cell_type": "markdown",
   "metadata": {},
   "source": [
    "We will load a BERT language model that is finetuned for emotion detection using this *go_emotions* data set. The **pipeline** task for using this model is *sentiment-analysis*. The pipeline **sentiment-analysis** should be understood here as a name for the type of classification that is carried out. In this case **text classification** in which is a label is assigned to the text as a whole and not to individual tokens. The **sentiment-analysis** pipeline can be used as an alias for using any model that is fine-tuned for text classification, regardless of the labels that have been used. The labels themselves do not carry any meaning for the model.\n",
    "\n",
    "Furthermore, we will use a parameter to either get the highest scoring label or all labels with a score.\n",
    "Below we set the parameter *return_all_scores* to True to get a score over all labels."
   ]
  },
  {
   "cell_type": "code",
   "execution_count": 1,
   "metadata": {
    "tags": []
   },
   "outputs": [
    {
     "name": "stderr",
     "output_type": "stream",
     "text": [
      "/Users/piek/.pyenv/versions/3.9.16/lib/python3.9/site-packages/tqdm/auto.py:21: TqdmWarning: IProgress not found. Please update jupyter and ipywidgets. See https://ipywidgets.readthedocs.io/en/stable/user_install.html\n",
      "  from .autonotebook import tqdm as notebook_tqdm\n"
     ]
    }
   ],
   "source": [
    "from transformers import pipeline"
   ]
  },
  {
   "cell_type": "code",
   "execution_count": 2,
   "metadata": {
    "tags": []
   },
   "outputs": [],
   "source": [
    "model_name = \"bhadresh-savani/bert-base-go-emotion\" \n",
    "emotion_pipeline = pipeline('sentiment-analysis', \n",
    "                    model=model_name, return_all_scores=True, truncation=True)"
   ]
  },
  {
   "cell_type": "markdown",
   "metadata": {},
   "source": [
    "We now created an instance *emotion_pipeline* of a transformer pipeline in analogy of an sentiment analysis classification task that we can apply to any utterance. The pipeline will use the tokenizer of the finetuned model and feed the sentence representation to the classifier as a sequence of contextualized token representations."
   ]
  },
  {
   "cell_type": "code",
   "execution_count": 3,
   "metadata": {
    "tags": []
   },
   "outputs": [],
   "source": [
    "emotion_labels = emotion_pipeline(\"Thanks for using it.\")"
   ]
  },
  {
   "cell_type": "code",
   "execution_count": 4,
   "metadata": {
    "tags": []
   },
   "outputs": [
    {
     "name": "stdout",
     "output_type": "stream",
     "text": [
      "{'label': 'admiration', 'score': 0.0007500767824240029}\n",
      "{'label': 'amusement', 'score': 0.00011047106818296015}\n",
      "{'label': 'anger', 'score': 9.69246102613397e-05}\n",
      "{'label': 'annoyance', 'score': 0.0002597436250653118}\n",
      "{'label': 'approval', 'score': 0.0011426006676629186}\n",
      "{'label': 'caring', 'score': 0.00030970710213296115}\n",
      "{'label': 'confusion', 'score': 0.00014959769032429904}\n",
      "{'label': 'curiosity', 'score': 0.00015838850231375545}\n",
      "{'label': 'desire', 'score': 0.0001385686337016523}\n",
      "{'label': 'disappointment', 'score': 0.00016352151578757912}\n",
      "{'label': 'disapproval', 'score': 0.00020030527957715094}\n",
      "{'label': 'disgust', 'score': 5.9684312873287126e-05}\n",
      "{'label': 'embarrassment', 'score': 5.588319982052781e-05}\n",
      "{'label': 'excitement', 'score': 0.00018467512563802302}\n",
      "{'label': 'fear', 'score': 5.239497113507241e-05}\n",
      "{'label': 'gratitude', 'score': 0.9934592247009277}\n",
      "{'label': 'grief', 'score': 2.022587250394281e-05}\n",
      "{'label': 'joy', 'score': 0.0003203645464964211}\n",
      "{'label': 'love', 'score': 0.00014530749467667192}\n",
      "{'label': 'nervousness', 'score': 3.977019150624983e-05}\n",
      "{'label': 'optimism', 'score': 0.0003828597837127745}\n",
      "{'label': 'pride', 'score': 8.253977284766734e-05}\n",
      "{'label': 'realization', 'score': 0.0004446824314072728}\n",
      "{'label': 'relief', 'score': 0.00020675198175013065}\n",
      "{'label': 'remorse', 'score': 5.820744263473898e-05}\n",
      "{'label': 'sadness', 'score': 9.699820657260716e-05}\n",
      "{'label': 'surprise', 'score': 0.00010775569535326213}\n",
      "{'label': 'neutral', 'score': 0.000802881782874465}\n"
     ]
    }
   ],
   "source": [
    "for result in emotion_labels[0]:\n",
    "    print(result)"
   ]
  },
  {
   "cell_type": "markdown",
   "metadata": {},
   "source": [
    "Although the GO emotions are a lot more nuanced than the Ekman emotions, it is possible to map the more specific emotions to Ekman's more basic ones and even to sentiments. The next mapping from the original Github of goemotions just do that:"
   ]
  },
  {
   "cell_type": "code",
   "execution_count": 6,
   "metadata": {
    "tags": []
   },
   "outputs": [],
   "source": [
    "### Mapping GO_Emotions to sentiment values\n",
    "sentiment_map={\n",
    "\"positive\": [\"amusement\", \"excitement\", \"joy\", \"love\", \"desire\", \"optimism\", \"caring\", \"pride\", \"admiration\", \"gratitude\", \"relief\", \"approval\"],\n",
    "\"negative\": [\"fear\", \"nervousness\", \"remorse\", \"embarrassment\", \"disappointment\", \"sadness\", \"grief\", \"disgust\", \"anger\", \"annoyance\", \"disapproval\"],\n",
    "\"ambiguous\": [\"realization\", \"surprise\", \"curiosity\", \"confusion\"]\n",
    "}\n",
    "\n",
    "### Mapping GO_Emotions to Ekman values\n",
    "ekman_map={\n",
    "\"anger\": [\"anger\", \"annoyance\", \"disapproval\"],\n",
    "\"disgust\": [\"disgust\"],\n",
    "\"fear\": [\"fear\", \"nervousness\"],\n",
    "\"joy\": [\"joy\", \"amusement\", \"approval\", \"excitement\", \"gratitude\",  \"love\", \"optimism\", \"relief\", \"pride\", \"admiration\", \"desire\", \"caring\"],\n",
    "\"sadness\": [\"sadness\", \"disappointment\", \"embarrassment\", \"grief\",  \"remorse\"],\n",
    "\"surprise\": [\"surprise\", \"realization\", \"confusion\", \"curiosity\"],\n",
    "\"neutral\": [\"neutral\"]\n",
    "}"
   ]
  },
  {
   "cell_type": "markdown",
   "metadata": {},
   "source": [
    "We can now make a few simple auxiliary functions that can translate GO emotions to Ekman or to sentiment values. The functions sort the predictions by their score and select the scores above a certain threshold. Only the ones above the threshold are mapped."
   ]
  },
  {
   "cell_type": "code",
   "execution_count": 7,
   "metadata": {
    "tags": []
   },
   "outputs": [],
   "source": [
    "### Sort a list of results in JSON format by the value of the score element\n",
    "def sort_predictions(predictions):\n",
    "    return sorted(predictions, key=lambda x: x['score'], reverse=True)\n",
    "\n",
    "\n",
    "### Use a mapping to get a dictionary of the mapped GO_emotion scores above the thereshold\n",
    "def get_mapped_scores(emotion_map, go_emotion_scores, threshold):\n",
    "    mapped_scores = {}\n",
    "\n",
    "    for prediction in go_emotion_scores[0]:\n",
    "        if prediction['score']>=threshold:\n",
    "            go_emotion=prediction['label']\n",
    "            for key in emotion_map:\n",
    "                if go_emotion in emotion_map[key]:\n",
    "                    if not key in mapped_scores:\n",
    "                        mapped_scores[key]= [prediction['score']]\n",
    "                    else:\n",
    "                        mapped_scores[key].append(prediction['score'])\n",
    "    return mapped_scores\n",
    "\n",
    "### Get the averaged score for an emotion or sentiment from the GO_emotion scores above a threshold\n",
    "### mapped according to the emotion_map\n",
    "def get_averaged_mapped_scores_by_threshold(emotion_map, go_emotion_scores, threshold):\n",
    "    averaged_mapped_scores = []\n",
    "    mapped_scores = get_mapped_scores(emotion_map, go_emotion_scores, threshold)\n",
    "    for emotion in mapped_scores:\n",
    "        lst = mapped_scores[emotion]\n",
    "        averaged_score= sum(lst)/len(lst)\n",
    "        averaged_mapped_scores.append({'label':emotion, 'score':averaged_score})\n",
    "    return sort_predictions(averaged_mapped_scores)"
   ]
  },
  {
   "cell_type": "markdown",
   "metadata": {},
   "source": [
    "Using these function, we can print the averaged Ekman and the averaged sentiment score for any GO emotion classifition result:"
   ]
  },
  {
   "cell_type": "code",
   "execution_count": 13,
   "metadata": {
    "tags": []
   },
   "outputs": [
    {
     "name": "stdout",
     "output_type": "stream",
     "text": [
      "Threshold 0.05\n",
      "{'label': 'joy', 'score': 0.9934592247009277}\n",
      "\n",
      "Threshold 0.0001\n",
      "{'label': 'joy', 'score': 0.09065005526248239}\n",
      "{'label': 'neutral', 'score': 0.000802881782874465}\n",
      "{'label': 'anger', 'score': 0.00023002445232123137}\n",
      "{'label': 'surprise', 'score': 0.00021510607984964736}\n",
      "{'label': 'sadness', 'score': 0.00016352151578757912}\n"
     ]
    }
   ],
   "source": [
    "threshold = 0.05\n",
    "print('Threshold', threshold)\n",
    "ekman_labels = get_averaged_mapped_scores_by_threshold(ekman_map, emotion_labels, threshold)\n",
    "for ekman in ekman_labels:\n",
    "    print(ekman)\n",
    "\n",
    "print()\n",
    "threshold = 0.0001\n",
    "print('Threshold', threshold)\n",
    "ekman_labels = get_averaged_mapped_scores_by_threshold(ekman_map, emotion_labels, threshold)\n",
    "for ekman in ekman_labels:\n",
    "    print(ekman)"
   ]
  },
  {
   "cell_type": "code",
   "execution_count": 14,
   "metadata": {
    "tags": []
   },
   "outputs": [
    {
     "name": "stdout",
     "output_type": "stream",
     "text": [
      "Threshold 0.05\n",
      "{'label': 'positive', 'score': 0.9934592247009277}\n",
      "\n",
      "Threshold 0.0001\n",
      "{'label': 'positive', 'score': 0.09065005526248239}\n",
      "{'label': 'ambiguous', 'score': 0.00021510607984964736}\n",
      "{'label': 'negative', 'score': 0.00020785680681001395}\n"
     ]
    }
   ],
   "source": [
    "threshold = 0.05\n",
    "print('Threshold', threshold)\n",
    "sentiment_scores = get_averaged_mapped_scores_by_threshold(sentiment_map, emotion_labels, threshold)\n",
    "for sentiment in sentiment_scores:\n",
    "    print(sentiment)\n",
    "\n",
    "print()\n",
    "threshold = 0.0001\n",
    "print('Threshold', threshold)\n",
    "sentiment_scores = get_averaged_mapped_scores_by_threshold(sentiment_map, emotion_labels, threshold)\n",
    "for sentiment in sentiment_scores:\n",
    "    print(sentiment)"
   ]
  },
  {
   "cell_type": "markdown",
   "metadata": {},
   "source": [
    "# End of this notebook"
   ]
  },
  {
   "cell_type": "code",
   "execution_count": null,
   "metadata": {},
   "outputs": [],
   "source": [
    "ßß"
   ]
  }
 ],
 "metadata": {
  "kernelspec": {
   "display_name": "Python 3",
   "language": "python",
   "name": "python3"
  },
  "language_info": {
   "codemirror_mode": {
    "name": "ipython",
    "version": 3
   },
   "file_extension": ".py",
   "mimetype": "text/x-python",
   "name": "python",
   "nbconvert_exporter": "python",
   "pygments_lexer": "ipython3",
   "version": "3.9.16"
  }
 },
 "nbformat": 4,
 "nbformat_minor": 4
}
