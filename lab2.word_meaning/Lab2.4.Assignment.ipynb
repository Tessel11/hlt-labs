{
 "cells": [
  {
   "cell_type": "markdown",
   "metadata": {},
   "source": [
    "# Lab-Assignment 2: Use Word Embeddings to extend Wordnet"
   ]
  },
  {
   "cell_type": "markdown",
   "metadata": {},
   "source": [
    "Copyright, Vrije Universiteit Amsterdam, Faculty of Humanities, CLTL"
   ]
  },
  {
   "cell_type": "markdown",
   "metadata": {},
   "source": [
    "The assignment is assessed as PASS/NO-PASS. In general, we value a critical analysis of running code more than just showing that you can create or run the code. So if you succesfully carried out the instructed commands in a notebook you are not done yet. We want you to analyse, understand what the code is doing with language and text. Be critical, think about how to explain what you observe and write this down in the notebook after running the code. We will clarify in the assignment when we expect this from you.\n",
    "\n",
    "You can make the assignment as a group but make sure that you understand and can carry out the coding yourself. You need these skills for your final assignment that is graded. Feedback will be given at the group level."
   ]
  },
  {
   "cell_type": "markdown",
   "metadata": {},
   "source": [
    "In this assignment you:\n",
    "\n",
    "<ol>\n",
    "    <li> Use Wordnet NLTK to get all the organ synsets and lemmas in the **body** sense of the word.\n",
    "    <li> Use Wiki2vec to get the words most similar to organ in the body meaning\n",
    "    <li> Use Leipzig embeddings to get the words most similar to organ in the body meaning\n",
    "    <li> Check which of these are types of organs in WordNet and which are not\n",
    "    <li> Check if the ones that are not listed as types of organs are still related through WordNet-path-similarity\n",
    "    <li> Evaluate these as organs to be added to WordNet\n",
    "    <li> Check if the ones that are not in Wordnet as types of organs could be added as such\n",
    "    <li> Compare and discuss the Wiki2vec and Leipzig results\n",
    "</ol>\n",
    "\n",
    "We assume you have analysed the following notebooks:\n",
    "\n",
    "* Lab2.1.NLTK_wordnet\n",
    "* Lab2.2 Using_Wordembeddings\n",
    "* Lab2.3 Creating_Wordembeddings\n",
    "\n",
    "This notebook should show how you used NLTK wordnet and applied embeddings to your words. Insert Mark Down rows to explain your steps and discuss any problems or issues. Once you generated the output and explanation, convert this notebook to PDF using the menu \"File/Export Notebook As\".\n",
    "\n",
    "Submit on Canvas a PDF of your notebook for the assignment with output and your answers. Include the group name and student names that worked on the assignment. If you fail to produce the PDF, submit the notebook after running the cells."
   ]
  },
  {
   "cell_type": "markdown",
   "metadata": {},
   "source": [
    "## 2.1 WordNet coverage over hyponyms:"
   ]
  },
  {
   "cell_type": "markdown",
   "metadata": {},
   "source": [
    "Get the WordNet synset for an organ in a body. Use the **word_similarity_wordnet_path** function from the Wordnet notebook to get the synset. Answer the following questions:\n",
    "\n",
    "* Which synset in WordNet is the organ inside a body? What is the similarity to \"body\"?\n",
    "* Which synset in WordNet is the organ as instrument? What is the similarity to \"instrument\"?\n"
   ]
  },
  {
   "cell_type": "code",
   "execution_count": 1,
   "metadata": {},
   "outputs": [],
   "source": [
    "from nltk.corpus import wordnet as wn"
   ]
  },
  {
   "cell_type": "code",
   "execution_count": 3,
   "metadata": {
    "tags": []
   },
   "outputs": [],
   "source": [
    "def word_similarity_wordnet_path(w1, w2):\n",
    "    top_sim_score = 0    \n",
    "    top_sim_synset_w1 = \"\"\n",
    "    top_sim_synset_w2 = \"\"\n",
    "    for s1 in wn.synsets(w1, 'n'):\n",
    "        for s2 in wn.synsets(w2, 'n'):\n",
    "            sim = s1.path_similarity(s2)\n",
    "            if sim>top_sim_score:\n",
    "                top_sim_score = sim\n",
    "                top_sim_synset_w1 = s1\n",
    "                top_sim_synset_w2 = s2\n",
    "    return top_sim_synset_w1, top_sim_synset_w2, top_sim_score"
   ]
  },
  {
   "cell_type": "code",
   "execution_count": 4,
   "metadata": {
    "tags": []
   },
   "outputs": [],
   "source": [
    "all_organ_synsets = wn.synsets('organ')"
   ]
  },
  {
   "cell_type": "code",
   "execution_count": 7,
   "metadata": {},
   "outputs": [
    {
     "name": "stdout",
     "output_type": "stream",
     "text": [
      "Organ synsets:\n",
      "Synset('organ.n.01') a fully differentiated structural and functional unit in an animal that is specialized for some particular function\n",
      "Synset('organ.n.02') a government agency or instrument devoted to the performance of some specific function\n",
      "Synset('electric_organ.n.01') (music) an electronic simulation of a pipe organ\n",
      "Synset('organ.n.04') a periodical that is published by a special interest group\n",
      "Synset('organ.n.05') wind instrument whose sound is produced by means of pipes arranged in sets supplied with air from a bellows and controlled from a large complex musical keyboard\n",
      "Synset('harmonium.n.01') a free-reed instrument in which air is forced through the reeds by bellows\n"
     ]
    }
   ],
   "source": [
    "print('Organ synsets:')\n",
    "for synset in all_organ_synsets:\n",
    "    print(synset, synset.definition())"
   ]
  },
  {
   "cell_type": "code",
   "execution_count": 9,
   "metadata": {},
   "outputs": [
    {
     "name": "stdout",
     "output_type": "stream",
     "text": [
      "(Synset('organ.n.01'), Synset('torso.n.01'), 0.3333333333333333)\n",
      "(Synset('electric_organ.n.01'), Synset('musical_instrument.n.01'), 0.3333333333333333)\n"
     ]
    }
   ],
   "source": [
    "print(word_similarity_wordnet_path('organ', 'body'))\n",
    "print(word_similarity_wordnet_path('organ', 'instrument'))"
   ]
  },
  {
   "cell_type": "markdown",
   "metadata": {},
   "source": [
    "#### Question 1.\n",
    "<i> The word synset for the organ in a body is Synset('organ.n.01'), with the definition: \"a fully differentiated structural and functional unit in an animal that is specialized for some particular function\". It has a similarity of 0.333 with the word 'body'. \n",
    "\n",
    "There are multiple word synsets for organ as instrument, namely Synset('electric_organ.n.01'), with the definition: \"(music) an electronic simulation of a pipe organ\",  Synset('organ.n.05'), with the definition: \"wind instrument whose sound is produced by means of pipes arranged in sets supplied with air from a bellows and controlled from a large complex musical keyboard and\" Synset('harmonium.n.01'), with the definition:  \"a free-reed instrument in which air is forced through the reeds by bellows\". The best similarty with \"instrument\" is with Synset('electric_organ.n.01'), which gets 0.333. </i>"
   ]
  },
  {
   "cell_type": "markdown",
   "metadata": {},
   "source": [
    "Get all types of body-organs from WordNet. Use the **get_hyponym_family** function from the Wordnet notebook to get the family.\n",
    "\n",
    "* How many synsets are in the body-organ family?"
   ]
  },
  {
   "cell_type": "code",
   "execution_count": 10,
   "metadata": {
    "tags": []
   },
   "outputs": [],
   "source": [
    "def get_hyponym_family (parent):\n",
    "    family=[]\n",
    "    children = parent.hyponyms()\n",
    "    if children:\n",
    "        family = family + children\n",
    "        for child in children:\n",
    "            grand_children = get_hyponym_family(child)\n",
    "            if grand_children:\n",
    "                family = family + grand_children\n",
    "    return family"
   ]
  },
  {
   "cell_type": "code",
   "execution_count": 13,
   "metadata": {
    "tags": []
   },
   "outputs": [
    {
     "name": "stdout",
     "output_type": "stream",
     "text": [
      "293\n"
     ]
    }
   ],
   "source": [
    "body_organ = wn.synset('organ.n.01')\n",
    "body_organ_family = get_hyponym_family(body_organ)\n",
    "print(len(body_organ_family))"
   ]
  },
  {
   "cell_type": "markdown",
   "metadata": {},
   "source": [
    "#### Question 2.\n",
    "<i> There are 293 synsets in the body-organ family. </i>"
   ]
  },
  {
   "cell_type": "markdown",
   "metadata": {},
   "source": [
    "Use the **get_lemmas_from_wordnet_family** function to get all synonyms for the family. \n",
    "\n",
    "* How many synonyms do you get?"
   ]
  },
  {
   "cell_type": "code",
   "execution_count": 15,
   "metadata": {
    "tags": []
   },
   "outputs": [],
   "source": [
    "def get_lemmas_from_wordnet_family(wnfamily, language):\n",
    "    lemmas = []\n",
    "    for synset in wnfamily:\n",
    "        slemmas = synset.lemma_names(language)\n",
    "        for slemma in slemmas:\n",
    "            lemmas.append(slemma)\n",
    "    return lemmas"
   ]
  },
  {
   "cell_type": "code",
   "execution_count": 17,
   "metadata": {
    "tags": []
   },
   "outputs": [
    {
     "name": "stdout",
     "output_type": "stream",
     "text": [
      "582\n"
     ]
    }
   ],
   "source": [
    "print(len(get_lemmas_from_wordnet_family(body_organ_family, \"eng\")))"
   ]
  },
  {
   "cell_type": "markdown",
   "metadata": {},
   "source": [
    "#### Question 3.\n",
    "<i> There are 582 synonyms for the synsets in the family body-organ. </i>"
   ]
  },
  {
   "cell_type": "markdown",
   "metadata": {},
   "source": [
    "## 2.2 Get related words through word embeddings\n"
   ]
  },
  {
   "cell_type": "markdown",
   "metadata": {},
   "source": [
    "### 2.2.1 Wiki2Vec embeddings:"
   ]
  },
  {
   "cell_type": "markdown",
   "metadata": {},
   "source": [
    "Download the Wiki2Vec embeddings for your target language and load the model using the Gensim package. If you cannot load the complete model, load part of it."
   ]
  },
  {
   "cell_type": "code",
   "execution_count": 4,
   "metadata": {
    "tags": []
   },
   "outputs": [],
   "source": [
    "from gensim.models import Word2Vec\n",
    "from gensim.models import KeyedVectors\n",
    "import numpy as np"
   ]
  },
  {
   "cell_type": "markdown",
   "metadata": {},
   "source": [
    "Get a list of the 50 words that are most similar to ```organ in a body```. \n",
    "Experiment with the positive and negative parameter options to include body-organs and exclude music-organs."
   ]
  },
  {
   "cell_type": "code",
   "execution_count": 5,
   "metadata": {
    "tags": []
   },
   "outputs": [],
   "source": [
    "#[CODE GOES HERE]"
   ]
  },
  {
   "cell_type": "markdown",
   "metadata": {},
   "source": [
    "* How many of these words are also a body-organ in WordNet?\n",
    "\n",
    "To answer this question you need to do the following:\n",
    "\n",
    "* Create an empty list for ```new_words``` and an emopty list for ```wordnet_words```\n",
    "* Create a for loop over all the results you get from wiki2vec using the **most_similar** function.\n",
    "* Note that each result is a set with the word and itsscore.\n",
    "* Get the word from each result, e.g. ```word=result[0].strip('ENTITY/')```, and the ```score=result[1]```. You need to strip the prefix ````ENTITY/``` from the wiki2vec word, using the **strip** function\n",
    "* If the word is among the wordnet lemmas for the body-organs you store it in the wordnet_words list\n",
    "* if not store it in a new_words list\n",
    "* After completing the loop, print get the length of each result list: new_words and wordnet_words\n"
   ]
  },
  {
   "cell_type": "code",
   "execution_count": 6,
   "metadata": {
    "tags": []
   },
   "outputs": [],
   "source": [
    "#[CODE GOES HERE]"
   ]
  },
  {
   "cell_type": "markdown",
   "metadata": {},
   "source": [
    "#### 4. [your answers go here]"
   ]
  },
  {
   "cell_type": "markdown",
   "metadata": {},
   "source": [
    "Now make another for loop over all the words in new_words and try to get the **WordNet-path** similarity to \"organ\" with the **word_similarity_wordnet_path** function. If the similarity score is higher than zero, ```if sim>0:```, output the synsets and the score. Answer the following questions:\n",
    "\n",
    "* How many of the new words are still in Wordnet but not in the body-organ family?\n",
    "* How are these (n Wordnet but not in the body-family) related to the first meaning of organ (body)? Consider similarity and hypernym path.\n",
    "* How many of the new words outside the body-family (inside and outside Wordnet) would really be types of organs in your opinion and how many are not?\n"
   ]
  },
  {
   "cell_type": "code",
   "execution_count": 7,
   "metadata": {
    "tags": []
   },
   "outputs": [],
   "source": [
    "#[CODE GOES HERE]"
   ]
  },
  {
   "cell_type": "markdown",
   "metadata": {},
   "source": [
    "#### 5. [your answers go here]"
   ]
  },
  {
   "cell_type": "markdown",
   "metadata": {
    "tags": []
   },
   "source": [
    "* How is it possible that words are related through WordNet-path to ```organ.n.01``` but not in the organ-family?\n",
    "* Do you consider Wiki2vec as a good resource for extending English WordNet? Motivate your answer!"
   ]
  },
  {
   "cell_type": "markdown",
   "metadata": {},
   "source": [
    "#### 6. [your answers go here]"
   ]
  },
  {
   "cell_type": "markdown",
   "metadata": {},
   "source": [
    "### 2.2.2 Embeddings from the Leipzig corpus:"
   ]
  },
  {
   "cell_type": "markdown",
   "metadata": {},
   "source": [
    "Download a text corpus from the Leipniz corpora collection. "
   ]
  },
  {
   "cell_type": "markdown",
   "metadata": {},
   "source": [
    "Build an embedding model from that corpus as explained in the notebook **Lab2.3.Creating_Wordembeddings** or load the model from disk if you already build and saved it."
   ]
  },
  {
   "cell_type": "markdown",
   "metadata": {},
   "source": [
    "Get the 50 words that are most similar to body-organ in the same way as you did for the Wiki2vec embeddings.\n",
    "Answer the following questions, similar as for the Wiki2vec embeddings.\n",
    "\n",
    "* How many of the similar words from the Leipzig model are in the organ-family and how many are not?\n",
    "* How many of the new words are still in Wordnet but not in the body-organ family?\n",
    "* How many are related using path to the first meaning of organ (body)\n",
    "* How many of these are also types of organs in your opinion and how many are not?\n"
   ]
  },
  {
   "cell_type": "code",
   "execution_count": 103,
   "metadata": {
    "tags": []
   },
   "outputs": [],
   "source": [
    "#[CODE GOES HERE]"
   ]
  },
  {
   "cell_type": "markdown",
   "metadata": {},
   "source": [
    "##### 7. [your answers go here]"
   ]
  },
  {
   "cell_type": "markdown",
   "metadata": {},
   "source": [
    "* Is there a difference between the lists given by Wiki2vec and the Leipzig model? Can you explain why?"
   ]
  },
  {
   "cell_type": "markdown",
   "metadata": {},
   "source": [
    "#### 8.[your answers go here]"
   ]
  },
  {
   "cell_type": "markdown",
   "metadata": {},
   "source": [
    "## End of assignment"
   ]
  },
  {
   "cell_type": "code",
   "execution_count": null,
   "metadata": {},
   "outputs": [],
   "source": []
  }
 ],
 "metadata": {
  "kernelspec": {
   "display_name": "Python 3",
   "language": "python",
   "name": "python3"
  },
  "language_info": {
   "codemirror_mode": {
    "name": "ipython",
    "version": 3
   },
   "file_extension": ".py",
   "mimetype": "text/x-python",
   "name": "python",
   "nbconvert_exporter": "python",
   "pygments_lexer": "ipython3",
   "version": "3.9.10"
  }
 },
 "nbformat": 4,
 "nbformat_minor": 4
}
