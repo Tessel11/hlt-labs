{
 "cells": [
  {
   "cell_type": "markdown",
   "metadata": {},
   "source": [
    "# Lab2.7 Average vector representation"
   ]
  },
  {
   "cell_type": "code",
   "execution_count": 2,
   "metadata": {},
   "outputs": [],
   "source": [
    "vectors1 =[[0.23,0.45, 0.21, 0.78],\n",
    "          [0.12,0.34, 0.11, 0.32],\n",
    "          [0.01,0.41, 0.05, 0.91],\n",
    "          [0.22,0.51, 0.93, 0.31]]"
   ]
  },
  {
   "cell_type": "code",
   "execution_count": 3,
   "metadata": {},
   "outputs": [
    {
     "name": "stdout",
     "output_type": "stream",
     "text": [
      "Sum of the vectors1: [0.58, 1.71, 1.3, 2.3200000000000003]\n",
      "Average of the vectors1: [0.145, 0.4275, 0.325, 0.5800000000000001]\n"
     ]
    }
   ],
   "source": [
    "sum_vec = [0.0, 0.0, 0.0, 0.0]\n",
    "for vec in vectors1:\n",
    "    for i, v in enumerate(vec):\n",
    "        sum_vec[i] += v\n",
    "print('Sum of the vectors1:', sum_vec)\n",
    "\n",
    "average_vec = [0, 0, 0, 0]\n",
    "for i, v in enumerate(sum_vec):\n",
    "    average_vec[i] = sum_vec[i]/len(vectors1)\n",
    "\n",
    "print('Average of the vectors1:', average_vec)"
   ]
  },
  {
   "cell_type": "code",
   "execution_count": 4,
   "metadata": {},
   "outputs": [],
   "source": [
    "vectors2 =[[0.23,0.45, 0.21, 0.78],\n",
    "          [0.12,0.34, 0.11, 0.32],\n",
    "          [0.02, 0.32, 0.08, 0.83],\n",
    "          [0.22,0.51, 0.93, 0.31]]"
   ]
  },
  {
   "cell_type": "code",
   "execution_count": 5,
   "metadata": {},
   "outputs": [
    {
     "name": "stdout",
     "output_type": "stream",
     "text": [
      "Sum of the vectors2: [0.59, 1.62, 1.33, 2.24]\n",
      "Average of the vectors2: [0.1475, 0.405, 0.3325, 0.56]\n"
     ]
    }
   ],
   "source": [
    "sum_vec = [0.0, 0.0, 0.0, 0.0]\n",
    "for vec in vectors2:\n",
    "    for i, v in enumerate(vec):\n",
    "        sum_vec[i] += v\n",
    "print('Sum of the vectors2:', sum_vec)\n",
    "\n",
    "average_vec = [0, 0, 0, 0]\n",
    "for i, v in enumerate(sum_vec):\n",
    "    average_vec[i] = sum_vec[i]/len(vectors2)\n",
    "\n",
    "print('Average of the vectors2:', average_vec)"
   ]
  },
  {
   "cell_type": "markdown",
   "metadata": {},
   "source": [
    "## End of notebook"
   ]
  },
  {
   "cell_type": "code",
   "execution_count": null,
   "metadata": {},
   "outputs": [],
   "source": []
  }
 ],
 "metadata": {
  "kernelspec": {
   "display_name": "Python 3",
   "language": "python",
   "name": "python3"
  },
  "language_info": {
   "codemirror_mode": {
    "name": "ipython",
    "version": 3
   },
   "file_extension": ".py",
   "mimetype": "text/x-python",
   "name": "python",
   "nbconvert_exporter": "python",
   "pygments_lexer": "ipython3",
   "version": "3.9.16"
  }
 },
 "nbformat": 4,
 "nbformat_minor": 4
}
