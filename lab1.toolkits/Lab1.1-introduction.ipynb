{
 "cells": [
  {
   "cell_type": "markdown",
   "metadata": {},
   "source": [
    "# Lab-1: Introduction to Natural Language Processing tools\n",
    "\n",
    "Copyright, Vrije Universiteit Amsterdam, Faculty of Humanities, CLTL"
   ]
  },
  {
   "cell_type": "markdown",
   "metadata": {},
   "source": [
    "## Lab-1 in a nutshell\n",
    "In this notebook, we try to answer the most important questions you might have about this lab session:\n",
    "* What do I need to have installed on my computer?\n",
    "* How to work with the Terminal or the Commadn Line?\n",
    "* How do I work with Jupyter Notebooks?\n",
    "* In what order should I go through the notebooks of Lab-1?"
   ]
  },
  {
   "cell_type": "markdown",
   "metadata": {},
   "source": [
    "In this course, you will be working with so-called Jupyter notebooks. Jupyter notebooks can be opened in a web browser and let you run python commands, visualise the output and add documentation using Markdown language. They are very easy to use and adapt so that you can experiment with the material step-by-step. By making your own notes in addition you can create your own learning experience. We will next explain how to install and use it."
   ]
  },
  {
   "cell_type": "markdown",
   "metadata": {},
   "source": [
    "## What do I need to have installed on my computer?\n",
    "\n",
    "When you see this notebook, you already installed [Anaconda Python 3](https://www.anaconda.com/distribution/) on your computer. \n",
    "You should have followed the instructions in the [HLT-lab1-getting-started.pdf](HLT-lab1-getting-started.pdf) to make sure that [Jupyter] is installed and launched in the same environment. If so, you should be able to select the [hltenv] as the kernel for the notebooks. If it is [hltenv] is not shown as the kernel, use the Change Kernel submenu under the Kernel menu.\n",
    "\n",
    "Check with the staff if everything is installed and running correctly."
   ]
  },
  {
   "cell_type": "markdown",
   "metadata": {},
   "source": [
    "## Working with the terminal"
   ]
  },
  {
   "cell_type": "markdown",
   "metadata": {},
   "source": [
    "Mac (unix) and Linux come with a terminal application that is straight forward to use. Windows also has a terminal, which can be installed and activated as explained here:\n",
    "\n",
    " https://docs.microsoft.com/en-us/windows/terminal/get-started\n",
    "\n",
    "You can also simulate a linux terminal in Windows through Git bash:\n",
    "\n",
    " https://www.atlassian.com/git/tutorials/git-bash\n",
    " \n",
    "Finally, you can carry out Unix commands in your notebook using the prefix '%'. Let's try this with the 'ls' command which gives a listing of what is in the current folder.\n",
    " "
   ]
  },
  {
   "cell_type": "code",
   "execution_count": 2,
   "metadata": {},
   "outputs": [
    {
     "name": "stdout",
     "output_type": "stream",
     "text": [
      "Lab1-apple-samsung-example.txt      Lab1.3-introduction-to-spaCy.ipynb\n",
      "Lab1-assignment.ipynb               \u001b[34mimg\u001b[m\u001b[m/\n",
      "Lab1.1-introduction.ipynb           my_parse_tree.ps\n",
      "Lab1.2-introduction-to-NLTK.ipynb   spacy_tree_structure.svg\n"
     ]
    }
   ],
   "source": [
    "%ls"
   ]
  },
  {
   "cell_type": "markdown",
   "metadata": {},
   "source": [
    "We see here the content of the Lab1 that was downloaded because this is where you run this notebook. Now we can try out other things. Lets use the 'cd' (change directory) command to enter the folder named 'img'."
   ]
  },
  {
   "cell_type": "code",
   "execution_count": 3,
   "metadata": {},
   "outputs": [
    {
     "name": "stdout",
     "output_type": "stream",
     "text": [
      "/Users/piek/Desktop/t-MA-HLT-introduction-2022/ma-hlt-labs/lab1.toolkits/img\n",
      "total 7952\n",
      "-rw-r--r--@ 1 piek  staff   135495 Aug 26  2021 anaconda-navigator.png\n",
      "-rw-r--r--@ 1 piek  staff  1283626 Aug 26  2021 anaconda-terminal.png\n",
      "-rw-r--r--  1 piek  staff    34449 Nov 25  2020 f.png\n",
      "-rw-r--r--@ 1 piek  staff   575830 Aug 26  2021 import-error-env.png\n",
      "-rw-r--r--@ 1 piek  staff    68604 Aug 27  2021 jupyter-lab.png\n",
      "-rw-r--r--@ 1 piek  staff   157126 Aug 27  2021 lab1.png\n",
      "-rw-r--r--@ 1 piek  staff    43641 Aug 28  2021 nltk-parse-2.png\n",
      "-rw-r--r--@ 1 piek  staff    48520 Aug 28  2021 nltk-parse.png\n",
      "-rw-r--r--@ 1 piek  staff    62260 Aug 28  2021 nltk-parser-3.png\n",
      "-rw-r--r--  1 piek  staff   211656 Nov 25  2020 nltk.download.png\n",
      "-rw-r--r--  1 piek  staff    30893 Nov 25  2020 nltk.tools.png\n",
      "-rw-r--r--@ 1 piek  staff  1189585 Aug 26  2021 pip-list.png\n",
      "-rw-r--r--@ 1 piek  staff   202859 Aug 26  2021 terminal.png\n"
     ]
    }
   ],
   "source": [
    "%cd img\n",
    "%ls -l"
   ]
  },
  {
   "cell_type": "markdown",
   "metadata": {},
   "source": [
    "We see several image files (.png) that are used in the notebooks of Lab1. Let's try a few more. Try to figure out what these commands do yourself."
   ]
  },
  {
   "cell_type": "code",
   "execution_count": 4,
   "metadata": {},
   "outputs": [
    {
     "name": "stdout",
     "output_type": "stream",
     "text": [
      "/Users/piek/Desktop/t-MA-HLT-introduction-2022/ma-hlt-labs/lab1.toolkits\n",
      "Lab1-apple-samsung-example.txt      Lab1.3-introduction-to-spaCy.ipynb\n",
      "Lab1-assignment.ipynb               \u001b[34mimg\u001b[m\u001b[m/\n",
      "Lab1.1-introduction.ipynb           my_parse_tree.ps\n",
      "Lab1.2-introduction-to-NLTK.ipynb   spacy_tree_structure.svg\n"
     ]
    }
   ],
   "source": [
    "%cd ..\n",
    "%ls"
   ]
  },
  {
   "cell_type": "code",
   "execution_count": 5,
   "metadata": {},
   "outputs": [
    {
     "name": "stdout",
     "output_type": "stream",
     "text": [
      "/Users/piek/Desktop/t-MA-HLT-introduction-2022/ma-hlt-labs/lab1.toolkits/test\n",
      "total 0\n"
     ]
    }
   ],
   "source": [
    "%mkdir test\n",
    "%cd test\n",
    "%ls -l"
   ]
  },
  {
   "cell_type": "markdown",
   "metadata": {},
   "source": [
    "What happens if you repeat running the above cell?"
   ]
  },
  {
   "cell_type": "markdown",
   "metadata": {},
   "source": [
    "Make sure you clean your mess afterwards and delete the test folder."
   ]
  },
  {
   "cell_type": "code",
   "execution_count": 6,
   "metadata": {},
   "outputs": [
    {
     "name": "stdout",
     "output_type": "stream",
     "text": [
      "/Users/piek/Desktop/t-MA-HLT-introduction-2022/ma-hlt-labs/lab1.toolkits\n",
      "Lab1-apple-samsung-example.txt      \u001b[34mimg\u001b[m\u001b[m/\n",
      "Lab1-assignment.ipynb               my_parse_tree.ps\n",
      "Lab1.1-introduction.ipynb           spacy_tree_structure.svg\n",
      "Lab1.2-introduction-to-NLTK.ipynb   \u001b[34mtest\u001b[m\u001b[m/\n",
      "Lab1.3-introduction-to-spaCy.ipynb\n",
      "/Users/piek/Desktop/t-MA-HLT-introduction-2022/ma-hlt-labs/lab1.toolkits\n",
      "Lab1-apple-samsung-example.txt      Lab1.3-introduction-to-spaCy.ipynb\n",
      "Lab1-assignment.ipynb               \u001b[34mimg\u001b[m\u001b[m/\n",
      "Lab1.1-introduction.ipynb           my_parse_tree.ps\n",
      "Lab1.2-introduction-to-NLTK.ipynb   spacy_tree_structure.svg\n"
     ]
    }
   ],
   "source": [
    "%cd ..\n",
    "%ls\n",
    "%rmdir test\n",
    "%cd .\n",
    "%ls"
   ]
  },
  {
   "cell_type": "markdown",
   "metadata": {},
   "source": [
    "Now you know how to run a command line instruction in a notebook, you can also install software from a notebook. We will explain this in the next notebook"
   ]
  },
  {
   "cell_type": "markdown",
   "metadata": {},
   "source": [
    "A final note on working with the terminal/command line. In your professional work, you are most likley going to use the terminal. You may have to connect your laptop to a server that runs Linux or Unix or Windows and run scripts with series of commands without a graphical interface. Typically, you run jobs with a lot of text data (hunderds of thousands, millions of documents) on these servers and not on your laptop.\n",
    "\n",
    "So it is good to familiarize yourself in due time with different operating systems: Linux, Unix (Mac), Windows and using a command line interface. If it is too overwhelming now, don't worry. You will get it eventually during the course."
   ]
  },
  {
   "cell_type": "markdown",
   "metadata": {},
   "source": [
    "Some other useful links:\n",
    "* Unix tutorial: https://www.ibm.com/developerworks/aix/library/au-unixtext/\n",
    "* Linux tutorial: https://tldp.org/LDP/intro-linux/html/intro-linux.html"
   ]
  },
  {
   "cell_type": "markdown",
   "metadata": {},
   "source": [
    "## How do I work with Jupyter Notebooks? \n",
    "\n",
    "The first choice you have to make is what editor you want to use for running and creating notebooks. The editor that we recommend is [JupyterLab](https://jupyterlab.readthedocs.io/en/stable/index.html). \n",
    "\n",
    "The best way to launch [JupyterLab] is from the command line:\n",
    "\n",
    "<ul>\n",
    "<li> Step 1: open the command line or a terminal \n",
    "<li>  Step 2: type \"jupyter lab\" and press enter.\n",
    "<li>  Step 3: navigate to the folder where you stored the notebooks for Lab 1\n",
    "</ul>\n",
    "\n",
    "The documentation for JupyterLab can be found [here](https://jupyterlab.readthedocs.io/en/stable/).\n",
    "    \n",
    "After that you've chosen and opened an editor, it is important that you know how to work with notebooks. \n",
    "We are going to practice Python using Notebooks. These Notebooks contain instructions and so-called 'code blocks'. The instructions are paragraphs of text that explain the concepts we are going to use. The 'code blocks' contain Python code.\n",
    "\n",
    "Notebooks are pretty straightforward. Some tips:\n",
    "* Cells in a notebook contain code or text (Markdown). If you run a cell, it will either run the code or render the text from the Markdown.\n",
    "* There are five ways to run a cell:\n",
    "    * Click the 'play' button next to the 'stop' and 'refresh' button in the toolbar.\n",
    "    * Alt + Enter runs the current cell and creates a new cell. \n",
    "    * Ctrl + Enter runs the current cell without creating a new cell.\n",
    "    * Shift + Enter runs the current cell and moves to the next one.\n",
    "    * Use the menu and select *Kernel* -> *Restart Kernal and Run All Cells*\n",
    "* The instructions are written in Markdown. [Here](https://github.com/adam-p/markdown-here/wiki/Markdown-Cheatsheet) is a nice Markdown cheatsheet if you want to write some more.\n",
    "* Explore the menus for more options! You can even create a presentation using Notebooks.\n",
    "\n",
    "If want to know more, [this](https://www.dataquest.io/blog/jupyter-notebook-tutorial/) is a nice tutorial on notebooks."
   ]
  },
  {
   "cell_type": "markdown",
   "metadata": {},
   "source": [
    "## In what order should I go through the notebooks of Lab 1?\n",
    "Please go through the notebooks in the following order:\n",
    "* **Lab1.1-introduction.ipynb** (the notebook you are now reading)\n",
    "* **Lab1.2-introduction-to-NLTK.ipynb** \n",
    "* **Lab1.3-introduction-to-spaCy.ipynb**\n",
    "* **Lab1-assignment.ipynb**"
   ]
  },
  {
   "cell_type": "markdown",
   "metadata": {},
   "source": [
    "## What are we going to discuss in this lab session?\n",
    "Natural Language Processing (NLP) tools transform text in some meaningful way (e.g. translation or summarization) or create interpretations (e.g. determining the structure, its meaning or use it for answering quesitons). This can be through low-level and high-level analysis, e.g. splitting a text into separate words, assign part-of-speech tags to each word, detecting entities in text, detecting events, determining the sentiment or emotions."
   ]
  },
  {
   "cell_type": "markdown",
   "metadata": {},
   "source": [
    "There are powerfull Python toolkits available that allow you to run all the above NLP tasks and more. \n",
    "\n",
    "In this lab, we introduce two popular toolkits:\n",
    "* [Natural Language Toolkit](https://www.nltk.org/) (NLTK) (see notebook **Lab1.2-introduction-to-NLTK.ipynb**)\n",
    "* [spaCy](https://spacy.io/) (see notebook **Lab1.3-introduction-to-spaCy.ipynb**)\n",
    "\n",
    "In the notebook in which we introduce NLTK, we not only show how to perform these tasks in NLTK, but we also **explain** how they work. The online NLTK book is a good aid for this.\n",
    "\n",
    "For SpaCy, we show how to **interpret** the output. SpaCy is a more modern library that can be used for production purposes. It is fast, works for many languages and is regularly updated. It is less useful for didactic purposes, as it is less clear what technology is inside."
   ]
  },
  {
   "cell_type": "markdown",
   "metadata": {},
   "source": [
    "## End of this notebook"
   ]
  },
  {
   "cell_type": "code",
   "execution_count": null,
   "metadata": {},
   "outputs": [],
   "source": []
  }
 ],
 "metadata": {
  "kernelspec": {
   "display_name": "hltenv",
   "language": "python",
   "name": "hltenv"
  },
  "language_info": {
   "codemirror_mode": {
    "name": "ipython",
    "version": 3
   },
   "file_extension": ".py",
   "mimetype": "text/x-python",
   "name": "python",
   "nbconvert_exporter": "python",
   "pygments_lexer": "ipython3",
   "version": "3.9.16"
  }
 },
 "nbformat": 4,
 "nbformat_minor": 4
}
