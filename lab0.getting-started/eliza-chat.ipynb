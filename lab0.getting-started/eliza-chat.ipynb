{
 "cells": [
  {
   "cell_type": "markdown",
   "metadata": {
    "jp-MarkdownHeadingCollapsed": true,
    "tags": []
   },
   "source": [
    "## Eliza implementation\n",
    "\n",
    "This notebook is taken from: https://github.com/itu-qsp/eliza\n",
    "\n",
    "Eliza is a very basic chatbot created by Joseph Weizenbaum in 1964. It was intended to acts as a psychotherapist by simply echoing questions on the basis of cues in the human input. It uses very simple rules and patterns to create the responses of the system.\n",
    "\n",
    "You can inspect the **eliza_language.py** to see the patterns for the cues and the corresponding responses. You can easly adapt the variable **PSYCHOBABBLE** yourself to adapt the system to your own insights, creating your own Eliza. The **eliza.py** is a simple script that gets each input from the human, matches it with the patterns and returns the response.\n",
    "\n",
    "In this notebook, we show how you can import the Eliza code, have a conversation, store this information in a socalled dataframe from the Pandas package. We show you how to iterate over the dataframe to add an emotion label to the human input, which is added to the dataframe.\n",
    "\n",
    "Finally, we show how you can save the conversation with the annotations to disk for later usage."
   ]
  },
  {
   "cell_type": "markdown",
   "metadata": {},
   "source": [
    "## 1. Loading and running Eliza"
   ]
  },
  {
   "cell_type": "markdown",
   "metadata": {},
   "source": [
    "We adapted the Eliza code in the *eliza.py* file from the original Github so that the Speaker information and a turn identifier are saved in a JSON structure for each turn. We wil use the stored conversation to create a Pandas frame and try to assign emotions to each utterance."
   ]
  },
  {
   "cell_type": "code",
   "execution_count": 1,
   "metadata": {
    "scrolled": true,
    "tags": []
   },
   "outputs": [],
   "source": [
    "import eliza as el"
   ]
  },
  {
   "cell_type": "markdown",
   "metadata": {},
   "source": [
    "The next cell starts the chat with Eliza. To stop type \"stop\", \"quit\" or \"bye\"."
   ]
  },
  {
   "cell_type": "code",
   "execution_count": 2,
   "metadata": {
    "tags": []
   },
   "outputs": [
    {
     "name": "stdout",
     "output_type": "stream",
     "text": [
      "My name is Eliza. What is your name?\n"
     ]
    },
    {
     "name": "stdin",
     "output_type": "stream",
     "text": [
      ">  Pi\n"
     ]
    },
    {
     "name": "stdout",
     "output_type": "stream",
     "text": [
      "Hello Pi. How are you feeling today?\n"
     ]
    },
    {
     "name": "stdin",
     "output_type": "stream",
     "text": [
      ">  Sad\n"
     ]
    },
    {
     "name": "stdout",
     "output_type": "stream",
     "text": [
      "Let's change focus a bit... Tell me about your family.\n"
     ]
    },
    {
     "name": "stdin",
     "output_type": "stream",
     "text": [
      ">  No\n"
     ]
    },
    {
     "name": "stdout",
     "output_type": "stream",
     "text": [
      "I see.  And what does that tell you?\n"
     ]
    },
    {
     "name": "stdin",
     "output_type": "stream",
     "text": [
      ">  Nothing\n"
     ]
    },
    {
     "name": "stdout",
     "output_type": "stream",
     "text": [
      "nothing.\n"
     ]
    },
    {
     "name": "stdin",
     "output_type": "stream",
     "text": [
      ">  bye\n"
     ]
    }
   ],
   "source": [
    "el.talk_to_me()"
   ]
  },
  {
   "cell_type": "markdown",
   "metadata": {},
   "source": [
    "We can now inspect the stored conversation and load the JSON in a Pandas dataframe."
   ]
  },
  {
   "cell_type": "code",
   "execution_count": 3,
   "metadata": {
    "tags": []
   },
   "outputs": [
    {
     "name": "stdout",
     "output_type": "stream",
     "text": [
      "{'utterance': 'Hello Pi. How are you feeling today?', 'speaker': 'Eliza', 'turn_id': 0}\n",
      "{'utterance': 'Sad', 'speaker': 'Pi', 'turn_id': 1}\n",
      "{'utterance': \"Let's change focus a bit... Tell me about your family.\", 'speaker': 'Eliza', 'turn_id': 1}\n",
      "{'utterance': 'No', 'speaker': 'Pi', 'turn_id': 2}\n",
      "{'utterance': 'I see.  And what does that tell you?', 'speaker': 'Eliza', 'turn_id': 2}\n",
      "{'utterance': 'Nothing', 'speaker': 'Pi', 'turn_id': 3}\n",
      "{'utterance': 'nothing.', 'speaker': 'Eliza', 'turn_id': 3}\n"
     ]
    }
   ],
   "source": [
    "for turn in el.conversation:\n",
    "    print(turn)"
   ]
  },
  {
   "cell_type": "markdown",
   "metadata": {},
   "source": [
    "### Using Pandas"
   ]
  },
  {
   "cell_type": "markdown",
   "metadata": {},
   "source": [
    "Although there is nothing wrong in using just the JSON structure shown above, we are loading the JSON in a Pandas dataframe for viewing and saving the data in more human readable table format. [Pandas](https://pandas.pydata.org) is a populair packages for loading and saving data."
   ]
  },
  {
   "cell_type": "markdown",
   "metadata": {},
   "source": [
    "Pandas needs to be installed separately on your local machine first. If you have not done this please follow the next instruction, otherwise you can skip the installation and directly proceed with importing it.\n",
    "\n",
    "As with other packages, make sure you install it within the same environment that you used to install Anaconda or install it within this notebook through the next cell. Please install pandas locally from the command line, using either of the two following instructions:\n",
    "\n",
    "\n",
    "* >`conda install pandas`\n",
    "* >`python -m pip install --upgrade pandas`\n"
   ]
  },
  {
   "cell_type": "markdown",
   "metadata": {},
   "source": [
    "If you succesfully installed Pandas, you should be able to import it in the next cell. Note that you may have to restart the Kernel of the notebook or even restart Jupyter to make it work."
   ]
  },
  {
   "cell_type": "code",
   "execution_count": 4,
   "metadata": {
    "tags": []
   },
   "outputs": [],
   "source": [
    "import pandas as pd"
   ]
  },
  {
   "cell_type": "markdown",
   "metadata": {},
   "source": [
    "If the import worked, we can now create a DataFrame by loading the JSON structure of the conversation which is represented in memory as a dictionary."
   ]
  },
  {
   "cell_type": "code",
   "execution_count": 5,
   "metadata": {
    "tags": []
   },
   "outputs": [],
   "source": [
    "df = pd.DataFrame.from_dict(el.conversation)"
   ]
  },
  {
   "cell_type": "markdown",
   "metadata": {},
   "source": [
    "Pandas provides to function to easily inspect the data that is loaded."
   ]
  },
  {
   "cell_type": "code",
   "execution_count": 6,
   "metadata": {
    "tags": []
   },
   "outputs": [
    {
     "name": "stdout",
     "output_type": "stream",
     "text": [
      "<class 'pandas.core.frame.DataFrame'>\n",
      "RangeIndex: 7 entries, 0 to 6\n",
      "Data columns (total 3 columns):\n",
      " #   Column     Non-Null Count  Dtype \n",
      "---  ------     --------------  ----- \n",
      " 0   utterance  7 non-null      object\n",
      " 1   speaker    7 non-null      object\n",
      " 2   turn_id    7 non-null      int64 \n",
      "dtypes: int64(1), object(2)\n",
      "memory usage: 296.0+ bytes\n"
     ]
    }
   ],
   "source": [
    "df.info()"
   ]
  },
  {
   "cell_type": "markdown",
   "metadata": {},
   "source": [
    "The **info()** function gived high level information and statistics on the data: what rows, columns and what type of values. The **head()** function gives you a list of the top rows."
   ]
  },
  {
   "cell_type": "code",
   "execution_count": 7,
   "metadata": {
    "tags": []
   },
   "outputs": [
    {
     "data": {
      "text/html": [
       "<div>\n",
       "<style scoped>\n",
       "    .dataframe tbody tr th:only-of-type {\n",
       "        vertical-align: middle;\n",
       "    }\n",
       "\n",
       "    .dataframe tbody tr th {\n",
       "        vertical-align: top;\n",
       "    }\n",
       "\n",
       "    .dataframe thead th {\n",
       "        text-align: right;\n",
       "    }\n",
       "</style>\n",
       "<table border=\"1\" class=\"dataframe\">\n",
       "  <thead>\n",
       "    <tr style=\"text-align: right;\">\n",
       "      <th></th>\n",
       "      <th>utterance</th>\n",
       "      <th>speaker</th>\n",
       "      <th>turn_id</th>\n",
       "    </tr>\n",
       "  </thead>\n",
       "  <tbody>\n",
       "    <tr>\n",
       "      <th>0</th>\n",
       "      <td>Hello Pi. How are you feeling today?</td>\n",
       "      <td>Eliza</td>\n",
       "      <td>0</td>\n",
       "    </tr>\n",
       "    <tr>\n",
       "      <th>1</th>\n",
       "      <td>Sad</td>\n",
       "      <td>Pi</td>\n",
       "      <td>1</td>\n",
       "    </tr>\n",
       "    <tr>\n",
       "      <th>2</th>\n",
       "      <td>Let's change focus a bit... Tell me about your...</td>\n",
       "      <td>Eliza</td>\n",
       "      <td>1</td>\n",
       "    </tr>\n",
       "    <tr>\n",
       "      <th>3</th>\n",
       "      <td>No</td>\n",
       "      <td>Pi</td>\n",
       "      <td>2</td>\n",
       "    </tr>\n",
       "    <tr>\n",
       "      <th>4</th>\n",
       "      <td>I see.  And what does that tell you?</td>\n",
       "      <td>Eliza</td>\n",
       "      <td>2</td>\n",
       "    </tr>\n",
       "  </tbody>\n",
       "</table>\n",
       "</div>"
      ],
      "text/plain": [
       "                                           utterance speaker  turn_id\n",
       "0               Hello Pi. How are you feeling today?   Eliza        0\n",
       "1                                                Sad      Pi        1\n",
       "2  Let's change focus a bit... Tell me about your...   Eliza        1\n",
       "3                                                 No      Pi        2\n",
       "4               I see.  And what does that tell you?   Eliza        2"
      ]
     },
     "execution_count": 7,
     "metadata": {},
     "output_type": "execute_result"
    }
   ],
   "source": [
    "df.head()"
   ]
  },
  {
   "cell_type": "markdown",
   "metadata": {},
   "source": [
    "# 2. Annotate the conversation with emotion labels"
   ]
  },
  {
   "cell_type": "markdown",
   "metadata": {},
   "source": [
    "We now define a simple loop over the dataframe with turns in the conversation to add an Ekman emotion label. "
   ]
  },
  {
   "cell_type": "markdown",
   "metadata": {},
   "source": [
    "We do not want to annotate the all utterances but only the human input. We assume that Eliza has no emotions and therefore always assign the emotion *neutral* to Eliza's utterances.\n",
    "\n",
    "How to iterate over the data in a Pandas frame is explained in more detail in **Lab3.5**."
   ]
  },
  {
   "cell_type": "code",
   "execution_count": 11,
   "metadata": {
    "tags": []
   },
   "outputs": [
    {
     "name": "stdout",
     "output_type": "stream",
     "text": [
      "Eliza Hello Pi. How are you feeling today?\n",
      "Pi Sad\n"
     ]
    },
    {
     "name": "stdin",
     "output_type": "stream",
     "text": [
      "label>  sadness\n"
     ]
    },
    {
     "name": "stdout",
     "output_type": "stream",
     "text": [
      "Eliza Let's change focus a bit... Tell me about your family.\n",
      "Pi No\n"
     ]
    },
    {
     "name": "stdin",
     "output_type": "stream",
     "text": [
      "label>  anger\n"
     ]
    },
    {
     "name": "stdout",
     "output_type": "stream",
     "text": [
      "Eliza I see.  And what does that tell you?\n",
      "Pi Nothing\n"
     ]
    },
    {
     "name": "stdin",
     "output_type": "stream",
     "text": [
      "label>  anger\n"
     ]
    },
    {
     "name": "stdout",
     "output_type": "stream",
     "text": [
      "Eliza nothing.\n",
      "['neutral', 'sadness', 'neutral', 'anger', 'neutral', 'anger', 'neutral']\n"
     ]
    }
   ],
   "source": [
    "#### Here are the 6 basic emotions that Ekman defined for facial expression. Neutral is the the 7th value\n",
    "ekman_labels = [\"anger\", \"disgust\", \"fear\", \"joy\", \"sadness\", \"surprise\", \"neutral\"]\n",
    "\n",
    "gold_labels = []\n",
    "gold = \"\"\n",
    "## We use a for-loop over the enumeration of all rows in the speaker column \n",
    "## to get an index of the row as well as the speaker information\n",
    "## We can use the index with the \"iloc\" data element to get other column values from the same row\n",
    "## We get the utterance with the \n",
    "for index, speaker in enumerate(df['speaker']):\n",
    "    utterance = df['utterance'].iloc[index]\n",
    "    print(speaker, utterance)\n",
    "    if speaker=='Eliza':\n",
    "        gold= 'neutral'\n",
    "    else: \n",
    "        ### we keep getting the user input till one of them matches an Ekman label\n",
    "        while not gold in ekman_labels:\n",
    "            gold = input(\"label> \")\n",
    "    gold_labels.append(gold)\n",
    "    gold=\"\"\n",
    "\n",
    "print(gold_labels)"
   ]
  },
  {
   "cell_type": "code",
   "execution_count": 12,
   "metadata": {
    "tags": []
   },
   "outputs": [
    {
     "data": {
      "text/html": [
       "<div>\n",
       "<style scoped>\n",
       "    .dataframe tbody tr th:only-of-type {\n",
       "        vertical-align: middle;\n",
       "    }\n",
       "\n",
       "    .dataframe tbody tr th {\n",
       "        vertical-align: top;\n",
       "    }\n",
       "\n",
       "    .dataframe thead th {\n",
       "        text-align: right;\n",
       "    }\n",
       "</style>\n",
       "<table border=\"1\" class=\"dataframe\">\n",
       "  <thead>\n",
       "    <tr style=\"text-align: right;\">\n",
       "      <th></th>\n",
       "      <th>utterance</th>\n",
       "      <th>speaker</th>\n",
       "      <th>turn_id</th>\n",
       "      <th>Gold</th>\n",
       "    </tr>\n",
       "  </thead>\n",
       "  <tbody>\n",
       "    <tr>\n",
       "      <th>0</th>\n",
       "      <td>Hello Pi. How are you feeling today?</td>\n",
       "      <td>Eliza</td>\n",
       "      <td>0</td>\n",
       "      <td>neutral</td>\n",
       "    </tr>\n",
       "    <tr>\n",
       "      <th>1</th>\n",
       "      <td>Sad</td>\n",
       "      <td>Pi</td>\n",
       "      <td>1</td>\n",
       "      <td>sadness</td>\n",
       "    </tr>\n",
       "    <tr>\n",
       "      <th>2</th>\n",
       "      <td>Let's change focus a bit... Tell me about your...</td>\n",
       "      <td>Eliza</td>\n",
       "      <td>1</td>\n",
       "      <td>neutral</td>\n",
       "    </tr>\n",
       "    <tr>\n",
       "      <th>3</th>\n",
       "      <td>No</td>\n",
       "      <td>Pi</td>\n",
       "      <td>2</td>\n",
       "      <td>anger</td>\n",
       "    </tr>\n",
       "    <tr>\n",
       "      <th>4</th>\n",
       "      <td>I see.  And what does that tell you?</td>\n",
       "      <td>Eliza</td>\n",
       "      <td>2</td>\n",
       "      <td>neutral</td>\n",
       "    </tr>\n",
       "  </tbody>\n",
       "</table>\n",
       "</div>"
      ],
      "text/plain": [
       "                                           utterance speaker  turn_id     Gold\n",
       "0               Hello Pi. How are you feeling today?   Eliza        0  neutral\n",
       "1                                                Sad      Pi        1  sadness\n",
       "2  Let's change focus a bit... Tell me about your...   Eliza        1  neutral\n",
       "3                                                 No      Pi        2    anger\n",
       "4               I see.  And what does that tell you?   Eliza        2  neutral"
      ]
     },
     "execution_count": 12,
     "metadata": {},
     "output_type": "execute_result"
    }
   ],
   "source": [
    "### We add a column of gold labels to th dataframe when we are done. \n",
    "###The gold_labels list should have the same length as the number of rows.\n",
    "df['Gold']=gold_labels\n",
    "df.head()"
   ]
  },
  {
   "cell_type": "markdown",
   "metadata": {},
   "source": [
    "# 3. Save the conversation to disk"
   ]
  },
  {
   "cell_type": "markdown",
   "metadata": {},
   "source": [
    "You need the annotated conversation for the final assignment. We therefore save it to disk so that we can load it later."
   ]
  },
  {
   "cell_type": "code",
   "execution_count": 13,
   "metadata": {
    "tags": []
   },
   "outputs": [],
   "source": [
    "file = \"my_emotional_conversation.csv\"\n",
    "df.to_csv(file)"
   ]
  },
  {
   "cell_type": "markdown",
   "metadata": {},
   "source": [
    "## End of Notebook"
   ]
  },
  {
   "cell_type": "code",
   "execution_count": null,
   "metadata": {},
   "outputs": [],
   "source": []
  }
 ],
 "metadata": {
  "kernelspec": {
   "display_name": "Python 3",
   "language": "python",
   "name": "python3"
  },
  "language_info": {
   "codemirror_mode": {
    "name": "ipython",
    "version": 3
   },
   "file_extension": ".py",
   "mimetype": "text/x-python",
   "name": "python",
   "nbconvert_exporter": "python",
   "pygments_lexer": "ipython3",
   "version": "3.9.16"
  }
 },
 "nbformat": 4,
 "nbformat_minor": 4
}
