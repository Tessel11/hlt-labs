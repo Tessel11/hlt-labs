{
 "cells": [
  {
   "cell_type": "markdown",
   "metadata": {
    "tags": []
   },
   "source": [
    "# Lab5 Final assignment: putting it all together"
   ]
  },
  {
   "cell_type": "markdown",
   "metadata": {},
   "source": [
    "The final assignment is an individual assignment in which you put things together. You earn 6 points when you carry out the basic tasks and an additional 4 points for analysing and discussing the results poperly. The maximum score is 10 points.\n",
    "\n",
    "<ol>\n",
    "    <li><b>Annotated Eliza conversations</b> [2 Points]\n",
    "        <ul>\n",
    "        <li> Load the annotated Eliza conversations in a Pandas data frame\n",
    "        <li>  Provide a statistical analysis of the emotion labels in the data per speaker\n",
    "        </ul>\n",
    "    <li><b>GO-emotions</b> [2 points]\n",
    "        <ul>\n",
    "        <li> Create a pipeline for the GO-emotion classifier\n",
    "        <li> Apply the pipeline to the turns in the conversation\n",
    "        <li> Map the GO result to Ekman results using a motivated(!) threshold\n",
    "        <li> Add the results to the Pandas data frame\n",
    "        <li> Generate a classification report and confusion matrix\n",
    "        </ul>\n",
    "    <li><b>Train a BoW SVM Ekman emotion classifier combining all MELD and Tweet data</b> [2 POINTS]\n",
    "        <ul>\n",
    "        <li> Load the train, test and development data from MELD and WASSA\n",
    "        <li> Discuss the statistics of the training data for the Ekman emotions\n",
    "        <li> Create a BoW vector representation and train an SVM classifier\n",
    "        <li> Save the classifier to disk\n",
    "        <li> Load the classifier in this notebook and apply it to the Eliza utterances\n",
    "        <li> Add the results to the Pandas data frame\n",
    "        <li> Generate a classification report and confusion matrix\n",
    "        </ul>\n",
    "    <li><b>Discuss the result</b> [4 POINTS]\n",
    "        <ul>\n",
    "        <li> Report on similarities and differences in performances and confusion matrixes \n",
    "        <li> What did you expect (recall and precision) and is this confirmed or falsified\n",
    "        <li> How to improve the classification\n",
    "        <li> Reflect on different emotion labels: Ekman or Go\n",
    "        </ul>\n",
    "        \n",
    "</ol>"
   ]
  },
  {
   "cell_type": "markdown",
   "metadata": {},
   "source": [
    "For 3.), you build a BoW SVM classfier in a separate notebook (use **lab5.meld-tweet-bow-svm-emotion-classifier.ipynb**) which combines the MELD and Tweet data into a single set of training data. Note that you can also include the test and development data for training since we are applying the model to your conversation and not to the MELD and Wassa tests. "
   ]
  },
  {
   "cell_type": "markdown",
   "metadata": {},
   "source": [
    "## 1. Submission"
   ]
  },
  {
   "cell_type": "markdown",
   "metadata": {},
   "source": [
    "The assignment should be submitted individually on CANVAS as a zip file and include the following:\n",
    "\n",
    "   1. The notebook to create a BoW-SVM combining MELD and Tweets for Ekman classification: **lab5.meld-tweet-bow-svm-emotion-classifier.ipynb**\n",
    "   2. The current notebook **lab5.final_assignment.ipynb**\n",
    "   3. A CSV file containing the conversation with all the gold and classifier outputs (use clear column names)\n",
    "   4. A PDF report of max 5 pages:\n",
    "       1. Section 1: what you have done and why: be explicit about the settings and data changes you made to training a classifier on MELD+Tweets\n",
    "       2. Section 2: report on the Ekman classification results. Use a single table for recall, precision and f-score and put confusion matrixes in the appendix.\n",
    "       4. Section 3:a discussion on the results comparing the SVM and the GO-classifier and how to improve the classifiers\n",
    "\n",
    "Use the notebooks that are given as a guide with the code and the output. You should NOT discuss the results in the notebooks but in the report. Use the notebooks to run the experiments and get the results. Include the tables and figures in the report."
   ]
  },
  {
   "cell_type": "markdown",
   "metadata": {},
   "source": [
    "Some utility functions presented during this course are needed for this assignment. They are all included in the Python file **lab5_util.py**. The next import makes these functions available in this notebook. There is no need to copy these functions into this notebook explicitly. After the import, you can call the function from **util**, e.g.:\n",
    "\n",
    "```emotion_labels = sort_predictions(emotion_labels[0])```\n",
    "\n",
    "```ekman_labels = util.get_averaged_mapped_scores_by_threshold(ekman_map, emotion_labels, threshold)```\n"
   ]
  },
  {
   "cell_type": "code",
   "execution_count": 16,
   "metadata": {
    "tags": []
   },
   "outputs": [],
   "source": [
    "import lab5_util as util"
   ]
  },
  {
   "cell_type": "markdown",
   "metadata": {
    "tags": []
   },
   "source": [
    "## 2. Loading the conversation saved on disk"
   ]
  },
  {
   "cell_type": "markdown",
   "metadata": {},
   "source": [
    "You receive a file with all the annoated conversations in JSON format. Load this file using Pandas to create a data frame."
   ]
  },
  {
   "cell_type": "code",
   "execution_count": 17,
   "metadata": {
    "tags": []
   },
   "outputs": [],
   "source": [
    "# [HERE COMES THE CODE TO LOAD THE DATA]"
   ]
  },
  {
   "cell_type": "code",
   "execution_count": 19,
   "metadata": {
    "tags": []
   },
   "outputs": [],
   "source": [
    "# THE CODE TO GET THE TEST TEXTS AND LABELS"
   ]
  },
  {
   "cell_type": "markdown",
   "metadata": {
    "tags": []
   },
   "source": [
    "## 2. Apply the GO classifier"
   ]
  },
  {
   "cell_type": "markdown",
   "metadata": {},
   "source": [
    "In the next part, you will apply the GO_EMOTION classifier *emotion* to the conversation loaded in a Pandas frame. You will also map the GO_EMOTIONS to the 6 basic Ekman emotion and to neutral. For the mappings, we added the utility functions to **lab5_util.py** . We also define a sort function to list the emotions from the highest score down. You first need to haved imported **lab5_util** as decribed above."
   ]
  },
  {
   "cell_type": "markdown",
   "metadata": {},
   "source": [
    "## 2.1 Create a pipeline for the GO Classifier"
   ]
  },
  {
   "cell_type": "code",
   "execution_count": 20,
   "metadata": {
    "tags": []
   },
   "outputs": [],
   "source": [
    "# HERE COMES THE CODE TO CREATE A PIPELINE FOR THE BERT-BASE-GO-EMOTION classifier"
   ]
  },
  {
   "cell_type": "markdown",
   "metadata": {},
   "source": [
    "### 2.2 Apply the GO classifier pipeline to the conversation and convert the result to Ekman"
   ]
  },
  {
   "cell_type": "code",
   "execution_count": 21,
   "metadata": {
    "tags": []
   },
   "outputs": [],
   "source": [
    "#threshold = ??\n",
    "\n",
    "#go_ekman_emotions = []\n",
    "#go_ekman_scores = []\n",
    "#go_emotions = []\n",
    "#go_scores = []"
   ]
  },
  {
   "cell_type": "code",
   "execution_count": 28,
   "metadata": {
    "tags": []
   },
   "outputs": [],
   "source": [
    "# HERE IS THE CODE TO ADD THE OUTPUT TO THE PANDAS DATA FRAME\n",
    "#df['Go_Ekman']=go_ekman_emotions\n",
    "#df['Go_EkmanScore']=go_ekman_scores\n",
    "#df['Go']=go_emotions\n",
    "#df['GoScore']=go_scores"
   ]
  },
  {
   "cell_type": "markdown",
   "metadata": {},
   "source": [
    "## 2.3 Evaluation"
   ]
  },
  {
   "cell_type": "code",
   "execution_count": 29,
   "metadata": {
    "tags": []
   },
   "outputs": [],
   "source": [
    "# HERE COMES THE CODE TO GENERATE THE CLASSIFICATION REPORT AND CONFUSION MATRIX"
   ]
  },
  {
   "cell_type": "markdown",
   "metadata": {},
   "source": [
    "## 3 Apply the BoW classifier"
   ]
  },
  {
   "cell_type": "markdown",
   "metadata": {},
   "source": [
    "### 3.1 Load the BoW SVM classifier from MELD and TWEETS"
   ]
  },
  {
   "cell_type": "code",
   "execution_count": 30,
   "metadata": {
    "tags": []
   },
   "outputs": [],
   "source": [
    "# HERE COMES THE CODE TO LOAD THE BOW SVM CLASSIFIER BUILT FROM MELD AND WASSA TWEETS"
   ]
  },
  {
   "cell_type": "markdown",
   "metadata": {},
   "source": [
    "### 3.2 Apply the classifier to the conversation"
   ]
  },
  {
   "cell_type": "code",
   "execution_count": 31,
   "metadata": {
    "tags": []
   },
   "outputs": [],
   "source": [
    "# HERE COMES THE CODE TO APPLY THE CLASSIFIER TO THE UTTERANCES"
   ]
  },
  {
   "cell_type": "code",
   "execution_count": 32,
   "metadata": {
    "tags": []
   },
   "outputs": [],
   "source": [
    "# HERE IS THE CODE TO ADD THE OUTPUT TO THE PANDAS DATA FRAME\n",
    "#df['Bow_Ekman']=BoW_ekman_emotions"
   ]
  },
  {
   "cell_type": "markdown",
   "metadata": {},
   "source": [
    "## 3.3 Evaluation"
   ]
  },
  {
   "cell_type": "code",
   "execution_count": 33,
   "metadata": {
    "tags": []
   },
   "outputs": [],
   "source": [
    "# HERE COMES THE CODE TO GENERATE THE CLASSIFICATION REPORT AND CONFUSION MATRIX"
   ]
  },
  {
   "cell_type": "markdown",
   "metadata": {},
   "source": [
    "## 4. Saving the dataframe will all the predictions to disk "
   ]
  },
  {
   "cell_type": "code",
   "execution_count": 34,
   "metadata": {
    "tags": []
   },
   "outputs": [],
   "source": [
    "# SAVE THE FINAL PANDAS FRAME TO A CSV FILE FOR YOUR SUBMISSION"
   ]
  },
  {
   "cell_type": "markdown",
   "metadata": {},
   "source": [
    "## End of the assignment"
   ]
  },
  {
   "cell_type": "code",
   "execution_count": null,
   "metadata": {},
   "outputs": [],
   "source": []
  }
 ],
 "metadata": {
  "kernelspec": {
   "display_name": "Python 3",
   "language": "python",
   "name": "python3"
  },
  "language_info": {
   "codemirror_mode": {
    "name": "ipython",
    "version": 3
   },
   "file_extension": ".py",
   "mimetype": "text/x-python",
   "name": "python",
   "nbconvert_exporter": "python",
   "pygments_lexer": "ipython3",
   "version": "3.9.16"
  }
 },
 "nbformat": 4,
 "nbformat_minor": 4
}
