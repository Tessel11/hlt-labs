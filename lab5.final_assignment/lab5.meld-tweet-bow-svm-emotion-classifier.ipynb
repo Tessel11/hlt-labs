{
 "cells": [
  {
   "cell_type": "markdown",
   "metadata": {},
   "source": [
    "# Lab5 Creating a BoW SVM Classifier from MELD and Tweets"
   ]
  },
  {
   "cell_type": "markdown",
   "metadata": {},
   "source": [
    "Copyright: Vrije Universiteit Amsterdam, Faculty of Humanities, CLTL"
   ]
  },
  {
   "cell_type": "markdown",
   "metadata": {},
   "source": [
    "To classify your conversation with Eliza, you need to build a SVM emotion classifier using a TFIDF Bag-of-Words representation using all the data from MELD and WASSA Tweets. In this case you can use al the train, test and development data to train the final classifier as you are going to test it on your conversation."
   ]
  },
  {
   "cell_type": "code",
   "execution_count": 26,
   "metadata": {},
   "outputs": [],
   "source": [
    "import pandas as pd\n",
    "from collections import Counter\n",
    "import nltk\n",
    "from nltk.corpus import stopwords\n",
    "import pickle\n",
    "import sklearn\n",
    "from sklearn import svm\n",
    "from sklearn.metrics import classification_report\n",
    "from sklearn.feature_extraction.text import CountVectorizer\n",
    "from sklearn.feature_extraction.text import TfidfTransformer\n",
    "import seaborn as sns\n",
    "import lab5_util as util"
   ]
  },
  {
   "cell_type": "markdown",
   "metadata": {},
   "source": [
    "### 1. Loading the tweet data set"
   ]
  },
  {
   "cell_type": "code",
   "execution_count": 4,
   "metadata": {},
   "outputs": [],
   "source": [
    "# LOAD THE TWEET TRAINING DATA\n",
    "dftweets_train = pd.read_csv('../lab3.machine_learning/data/wassa/training/all.train.tsv', sep='\\t')"
   ]
  },
  {
   "cell_type": "code",
   "execution_count": 6,
   "metadata": {},
   "outputs": [],
   "source": [
    "# TO LOAD THE TWEET TEST DATA\n",
    "dftweets_test = pd.read_csv('../lab3.machine_learning/data/wassa/testing/all.test.tsv', sep='\\t')"
   ]
  },
  {
   "cell_type": "code",
   "execution_count": 7,
   "metadata": {},
   "outputs": [],
   "source": [
    "# LOAD THE TWEET DEVELOPMENT DATA\n",
    "dftweets_dev = pd.read_csv('../lab3.machine_learning/data/wassa/development/all.dev.tsv', sep='\\t')"
   ]
  },
  {
   "cell_type": "markdown",
   "metadata": {},
   "source": [
    "Get the training texts and labels"
   ]
  },
  {
   "cell_type": "code",
   "execution_count": 8,
   "metadata": {},
   "outputs": [],
   "source": [
    "# Get the tweets from the training data\n",
    "tweet_train_instances = list(dftweets_train['Tweet'])\n",
    "\n",
    "# Get the labels from the training data\n",
    "tweet_train_labels = list(dftweets_train['Label'])\n",
    "\n",
    "# Get the tweets from the test data\n",
    "tweet_test_instances = list(dftweets_test['Tweet'])\n",
    "\n",
    "# Get the labels from the test data\n",
    "tweet_test_labels = list(dftweets_test['Label'])\n",
    "\n",
    "# Get the tweets from the development data\n",
    "tweet_dev_instances = list(dftweets_dev['Tweet'])\n",
    "\n",
    "# Get the labels from the development data\n",
    "tweet_dev_labels = list(dftweets_dev['Label'])"
   ]
  },
  {
   "cell_type": "markdown",
   "metadata": {},
   "source": [
    "## 2. Loading the MELD data set"
   ]
  },
  {
   "cell_type": "code",
   "execution_count": 21,
   "metadata": {},
   "outputs": [],
   "source": [
    "# LOAD THE MELD TRAINING DATA\n",
    "dfmeld_train = pd.read_csv('../lab3.machine_learning/data/MELD/train_sent_emo.csv')\n",
    "util.replace_weird_tokens_in_meld(dfmeld_train)"
   ]
  },
  {
   "cell_type": "code",
   "execution_count": 22,
   "metadata": {},
   "outputs": [],
   "source": [
    "# LOAD THE MELD TEST DATA\n",
    "dfmeld_test = pd.read_csv('../lab3.machine_learning/data/MELD/test_sent_emo.csv')\n",
    "util.replace_weird_tokens_in_meld(dfmeld_test)"
   ]
  },
  {
   "cell_type": "code",
   "execution_count": 23,
   "metadata": {},
   "outputs": [],
   "source": [
    "# LOAD THE MELD DEVELOPMENT DATA\n",
    "dfmeld_dev = pd.read_csv('../lab3.machine_learning/data/MELD/dev_sent_emo.csv')\n",
    "util.replace_weird_tokens_in_meld(dfmeld_dev)"
   ]
  },
  {
   "cell_type": "code",
   "execution_count": 24,
   "metadata": {},
   "outputs": [],
   "source": [
    "# Get the tweets from the training data\n",
    "meld_train_instances = list(dfmeld_train['Utterance'])\n",
    "\n",
    "# Get the labels from the training data\n",
    "meld_train_labels = list(dfmeld_train['Emotion'])\n",
    "\n",
    "# Get the tweets from the test data\n",
    "meld_test_instances = list(dfmeld_test['Utterance'])\n",
    "\n",
    "# Get the labels from the test data\n",
    "meld_test_labels = list(dfmeld_test['Emotion'])\n",
    "\n",
    "# Get the tweets from the development data    \n",
    "meld_dev_instances = list(dfmeld_dev['Utterance'])\n",
    "\n",
    "# Get the labels from the development data\n",
    "meld_dev_labels = list(dfmeld_dev['Emotion'])"
   ]
  },
  {
   "cell_type": "markdown",
   "metadata": {},
   "source": [
    "## 3. Combining the training data"
   ]
  },
  {
   "cell_type": "code",
   "execution_count": 25,
   "metadata": {},
   "outputs": [],
   "source": [
    "# CREATING A SINGLE TRAINING DATA SET\n",
    "combined_train_instances = tweet_train_instances + tweet_test_instances + tweet_dev_instances + meld_train_instances + meld_test_instances + meld_dev_instances\n",
    "combined_train_labels = tweet_train_labels + tweet_test_labels + tweet_dev_labels + meld_train_labels + meld_test_labels + meld_dev_labels"
   ]
  },
  {
   "cell_type": "code",
   "execution_count": 28,
   "metadata": {},
   "outputs": [
    {
     "name": "stdout",
     "output_type": "stream",
     "text": [
      "Total of values 21157\n"
     ]
    },
    {
     "data": {
      "image/png": "[encoded data removed]",
      "text/plain": [
       "<Figure size 432x288 with 1 Axes>"
      ]
     },
     "metadata": {
      "needs_background": "light"
     },
     "output_type": "display_data"
    }
   ],
   "source": [
    "# ANALYSE THE DISTRIBUTION OVER THE EMOTION LABELS\n",
    "emotion_counts = Counter(combined_train_labels)\n",
    "util.plot_labels_with_counts(list(emotion_counts.keys()), list(emotion_counts.values()))"
   ]
  },
  {
   "cell_type": "code",
   "execution_count": 35,
   "metadata": {},
   "outputs": [
    {
     "name": "stderr",
     "output_type": "stream",
     "text": [
      "c:\\Users\\xelfj\\AppData\\Local\\Programs\\Python\\lib\\site-packages\\sklearn\\feature_extraction\\text.py:396: UserWarning: Your stop_words may be inconsistent with your preprocessing. Tokenizing the stop words generated tokens [\"'d\", \"'ll\", \"'re\", \"'s\", \"'ve\", 'could', 'might', 'must', \"n't\", 'need', 'sha', 'wo', 'would'] not in stop_words.\n",
      "  warnings.warn(\n"
     ]
    },
    {
     "data": {
      "text/plain": [
       "LinearSVC(max_iter=2000)"
      ]
     },
     "execution_count": 35,
     "metadata": {},
     "output_type": "execute_result"
    }
   ],
   "source": [
    "# TRAIN AN SVM CLASSIFIER WITH A BOW TFIDF DATA REPRESENTATION\n",
    "\n",
    "# Create a BoW vectorizer\n",
    "frequency_threshold = 5\n",
    "bow_vec = CountVectorizer(min_df=frequency_threshold, # If a token appears fewer times than this, across all documents, it will be ignored\n",
    "                             tokenizer=nltk.word_tokenize, # we use the nltk tokenizer\n",
    "                             stop_words=stopwords.words('english')) # stopwords are removed\n",
    "# Create a TFIDF transformer\n",
    "tfidf_transformer = TfidfTransformer()\n",
    "\n",
    "# Fit the vectorizer and transformer and transfrom the training data\n",
    "x_train = tfidf_transformer.fit_transform(bow_vec.fit_transform(combined_train_instances))\n",
    "\n",
    "# Train the Support Vector Machine\n",
    "svm_linear_clf = svm.LinearSVC(max_iter=2000)\n",
    "svm_linear_clf.fit(x_train, combined_train_labels)"
   ]
  },
  {
   "cell_type": "markdown",
   "metadata": {},
   "source": [
    "## 4. Saving the final combined classifier to disk"
   ]
  },
  {
   "cell_type": "code",
   "execution_count": 37,
   "metadata": {},
   "outputs": [],
   "source": [
    "# Save the countvectorizer\n",
    "filename_vectorizer = 'models/vectorizer.sav'\n",
    "pickle.dump(bow_vec, open(filename_vectorizer, 'wb'))\n",
    "\n",
    "# Save the tfidf transformer\n",
    "filename_tfidftransformer = 'models/tfidf_transformer.sav'\n",
    "pickle.dump(tfidf_transformer, open(filename_tfidftransformer, 'wb'))\n",
    "\n",
    "# Save the classifier to disk\n",
    "filename_classifier = 'models/svm_linear_clf_bow.sav'\n",
    "pickle.dump(svm_linear_clf, open(filename_classifier,'wb'))"
   ]
  },
  {
   "cell_type": "markdown",
   "metadata": {},
   "source": [
    "# End of notebook"
   ]
  }
 ],
 "metadata": {
  "kernelspec": {
   "display_name": "Python 3",
   "language": "python",
   "name": "python3"
  },
  "language_info": {
   "codemirror_mode": {
    "name": "ipython",
    "version": 3
   },
   "file_extension": ".py",
   "mimetype": "text/x-python",
   "name": "python",
   "nbconvert_exporter": "python",
   "pygments_lexer": "ipython3",
   "version": "3.9.10"
  }
 },
 "nbformat": 4,
 "nbformat_minor": 4
}
